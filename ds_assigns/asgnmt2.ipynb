{
 "cells": [
  {
   "cell_type": "code",
   "execution_count": 7,
   "id": "ccfecb18-4945-4c22-ace9-621c2a1001f5",
   "metadata": {},
   "outputs": [
    {
     "name": "stdout",
     "output_type": "stream",
     "text": [
      "99% Confidence Interval: (1.090197338451367, 1.3871359948819662)\n"
     ]
    }
   ],
   "source": [
    "##  Build 99% Confidence Interval Using Sample Standard Deviation\n",
    "\n",
    "import numpy as np\n",
    "import scipy.stats as stats\n",
    "\n",
    "data = [1.13, 1.55, 1.43, 0.92, 1.25, 1.36, 1.32, 0.85, 1.07, 1.48, 1.20, 1.33, 1.18, 1.22, 1.29]\n",
    "\n",
    "# Sample mean\n",
    "sample_mean = np.mean(data)\n",
    "\n",
    "# Sample standard deviation\n",
    "sample_std = np.std(data, ddof=1)\n",
    "\n",
    "# Degrees of freedom\n",
    "df = n - 1\n",
    "\n",
    "# t-score for 99% confidence interval\n",
    "t_score = stats.t.ppf(0.995, df)\n",
    "\n",
    "# Margin of error\n",
    "margin_of_error = t_score * (sample_std / np.sqrt(n))\n",
    "\n",
    "# Confidence interval\n",
    "confidence_interval = (sample_mean - margin_of_error, sample_mean + margin_of_error)\n",
    "\n",
    "print(\"99% Confidence Interval:\", confidence_interval)"
   ]
  },
  {
   "cell_type": "code",
   "execution_count": 6,
   "id": "f8472482-3263-4f81-8674-589850832d7d",
   "metadata": {},
   "outputs": [
    {
     "name": "stdout",
     "output_type": "stream",
     "text": [
      "99% Confidence Interval: (1.105642598668929, 1.371690734664404)\n"
     ]
    }
   ],
   "source": [
    "## Build 99% Confidence Interval Using Sample Standard Deviation \n",
    "\n",
    "import numpy as np\n",
    "\n",
    "data = [1.13, 1.55, 1.43, 0.92, 1.25, 1.36, 1.32, 0.85, 1.07, 1.48, 1.20, 1.33, 1.18, 1.22, 1.29]\n",
    "\n",
    "# population standard deviation \n",
    "population_std = 0.2 \n",
    "\n",
    "# Sample mean\n",
    "sample_mean = np.mean(data)\n",
    "\n",
    "# Z-score for 99% confidence interval\n",
    "z_score = 2.576\n",
    "\n",
    "# Margin of error\n",
    "margin_of_error = z_score * (population_std / np.sqrt(n))\n",
    "\n",
    "# Confidence interval\n",
    "confidence_interval = (sample_mean - margin_of_error, sample_mean + margin_of_error)\n",
    "\n",
    "print(\"99% Confidence Interval:\", confidence_interval) "
   ]
  },
  {
   "cell_type": "code",
   "execution_count": null,
   "id": "3e253512-170d-42e3-9fec-df68903ca4eb",
   "metadata": {},
   "outputs": [],
   "source": []
  }
 ],
 "metadata": {
  "kernelspec": {
   "display_name": "Python 3 (ipykernel)",
   "language": "python",
   "name": "python3"
  },
  "language_info": {
   "codemirror_mode": {
    "name": "ipython",
    "version": 3
   },
   "file_extension": ".py",
   "mimetype": "text/x-python",
   "name": "python",
   "nbconvert_exporter": "python",
   "pygments_lexer": "ipython3",
   "version": "3.11.7"
  }
 },
 "nbformat": 4,
 "nbformat_minor": 5
}
