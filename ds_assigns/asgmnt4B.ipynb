{
 "cells": [
  {
   "cell_type": "code",
   "execution_count": null,
   "id": "0254083a-19d1-4bb1-82c1-6dc1902948ab",
   "metadata": {},
   "outputs": [],
   "source": [
    "## state the hypothesis statement\n",
    "\n",
    "Null Hypothesis (𝐻0): The sample mean weekly cost is equal to the theoretical mean weekly cost.\n",
    "Alternative Hypothesis (Halpha): The sample mean weekly cost is not equal to the theoretical mean weekly cost.\n"
   ]
  },
  {
   "cell_type": "code",
   "execution_count": 1,
   "id": "d19742ba-fd87-4157-9de6-51fc2766a3b7",
   "metadata": {},
   "outputs": [
    {
     "data": {
      "text/plain": [
       "-38.0"
      ]
     },
     "execution_count": 1,
     "metadata": {},
     "output_type": "execute_result"
    }
   ],
   "source": [
    "## Calculate the Test Statistic\n",
    "\n",
    "sample_mean = 3050\n",
    "theoretical_mean = 4000\n",
    "standard_deviation = 125\n",
    "sample_size = 25\n",
    "\n",
    "# Calculate the standard error of the mean \n",
    "SEM = standard_deviation / (sample_size ** 0.5)\n",
    "\n",
    "# Calculate the test statistic \n",
    "t_statistic = (sample_mean - theoretical_mean) / SEM\n",
    "t_statistic"
   ]
  },
  {
   "cell_type": "code",
   "execution_count": 3,
   "id": "55b66458-66a4-4f56-a029-ed359396f6d1",
   "metadata": {},
   "outputs": [
    {
     "data": {
      "text/plain": [
       "2.0638985616280205"
      ]
     },
     "execution_count": 3,
     "metadata": {},
     "output_type": "execute_result"
    }
   ],
   "source": [
    "## Determine the Critical Value\n",
    "\n",
    "import scipy.stats as stats\n",
    "\n",
    "# Define the significance level and degrees of freedom\n",
    "alpha = 0.05\n",
    "df = 24\n",
    "\n",
    "# Calculate the critical value for a two-tailed test\n",
    "critical_value = stats.t.ppf(1 - alpha / 2, df)\n",
    "critical_value"
   ]
  },
  {
   "cell_type": "code",
   "execution_count": null,
   "id": "99daa1a1-6b4b-4490-a3e0-d34d9197afc2",
   "metadata": {},
   "outputs": [],
   "source": [
    "##  Make a Decision\n",
    "\n",
    "Test Statistic = -38.0\n",
    "Critical Value = 2.06\n",
    "Test statistic < Critical Value\n",
    "\n",
    "As Test Statistic is less than Critical Value , we do not reject null hypothesis."
   ]
  },
  {
   "cell_type": "code",
   "execution_count": null,
   "id": "94522256-c16c-4594-837c-5ed44401c897",
   "metadata": {},
   "outputs": [],
   "source": [
    "## Conclusion\n",
    "Through this we can conclude that there is not enough evidence to support the restaurant owners claim that the weekly operating costs\n",
    "are higher than the model suggests."
   ]
  }
 ],
 "metadata": {
  "kernelspec": {
   "display_name": "Python 3 (ipykernel)",
   "language": "python",
   "name": "python3"
  },
  "language_info": {
   "codemirror_mode": {
    "name": "ipython",
    "version": 3
   },
   "file_extension": ".py",
   "mimetype": "text/x-python",
   "name": "python",
   "nbconvert_exporter": "python",
   "pygments_lexer": "ipython3",
   "version": "3.11.7"
  }
 },
 "nbformat": 4,
 "nbformat_minor": 5
}
