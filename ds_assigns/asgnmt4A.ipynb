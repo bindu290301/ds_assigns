{
 "cells": [
  {
   "cell_type": "markdown",
   "id": "5490a6f4-1caf-4c4f-850b-a83727322c4e",
   "metadata": {},
   "source": [
    "## State the Hypothesis\n",
    "\n",
    "Null Hypothesis (H0): There is no association between the type of smart home device purchased (Smart Thermostats vs Smart Lights)\n",
    "                      and the customer satisfaction level. \n",
    "Alternative Hypothesis (Halpha): There is a association between the type of smart home device purchased (Smart Thermostats vs. Smart Lights)\n",
    "                                 and the customer satisfaction level."
   ]
  },
  {
   "cell_type": "code",
   "execution_count": null,
   "id": "76ffb133-886b-4d69-a14c-456b5117400a",
   "metadata": {},
   "outputs": [],
   "source": [
    "## compute chi-square statistic\n",
    "\n",
    "Calculation:\n",
    "E = row total * column total / grand total\n",
    "\n",
    "expected frequencies:\n",
    "E 11 = 120*240/600 = 48\n",
    "E 12 = 120*360/600 = 72\n",
    "E 21 = 180*240/600 = 72\n",
    "​E 22 = 180*360/600 = 108\n",
    "​E 31 = 150*240/600 = 60\n",
    "​E 32 = 150*360/600 = 90\n",
    "​E 41 = 80*240/600 = 32\n",
    "​E 42 = 80*360/600 = 48\n",
    "E 51 = 70*240/600 = 28\n",
    "​E 52 = 70*360/600 = 42\n",
    "\n",
    "chi-square statistic:​\n",
    "import math \n",
    "print(math.pow(50-48,2))\n",
    "print(math.pow(70-72,2))\n",
    "print(math.pow(80-72,2))\n",
    "print(math.pow(100-108,2))\n",
    "print(math.pow(60-60,2))\n",
    "print(math.pow(90-90,2))\n",
    "print(math.pow(30-32,2))\n",
    "print(math.pow(50-48,2))\n",
    "print(math.pow(20-28,2))\n",
    "print(math.pow(50-42,2))\n",
    " = 5.6382\n"
   ]
  },
  {
   "cell_type": "code",
   "execution_count": 1,
   "id": "7398e8ea-a11d-4576-bd1e-d2e2b41296af",
   "metadata": {},
   "outputs": [
    {
     "name": "stdout",
     "output_type": "stream",
     "text": [
      "Chi-Square Statistic: 5.638227513227513\n"
     ]
    }
   ],
   "source": [
    "code:\n",
    "import numpy as np\n",
    "from scipy.stats import chi2_contingency\n",
    "\n",
    "# Create the contingency table\n",
    "observed = np.array([[50, 70],\n",
    "                     [80, 100],\n",
    "                     [60, 90],\n",
    "                     [30, 50],\n",
    "                     [20, 50]])\n",
    "\n",
    "# Perform the Chi-Square test\n",
    "chi2, p, dof, expected = chi2_contingency(observed)\n",
    "\n",
    "# Print the Chi-Square statistic\n",
    "print(\"Chi-Square Statistic:\", chi2)\n"
   ]
  },
  {
   "cell_type": "code",
   "execution_count": 8,
   "id": "5122dd82-cf7b-44a7-be15-c4552ef0c529",
   "metadata": {},
   "outputs": [
    {
     "name": "stdout",
     "output_type": "stream",
     "text": [
      "Critical value: 9.487729036781154\n"
     ]
    }
   ],
   "source": [
    "## Determine the Critical Value\n",
    "\n",
    "number of rows = 5\n",
    "number of columns = 2\n",
    "degrees of freedom = (5-1)*(2-1)=4\n",
    "\n",
    "import scipy.stats as stats\n",
    "\n",
    "alpha = 0.05\n",
    "df = 4\n",
    "\n",
    "critical_value = stats.chi2.ppf(1 - alpha, df)\n",
    "print(\"Critical value:\", critical_value)"
   ]
  },
  {
   "cell_type": "code",
   "execution_count": null,
   "id": "29b03228-2c90-4e78-a904-124585f820ee",
   "metadata": {},
   "outputs": [],
   "source": [
    "## make a decision\n",
    "Critical value: 9.487729036781154\n",
    "Chi-Square Statistic: 5.638227513227513\n",
    "Critical value > Chi-Square Statistic\n",
    "\n",
    "As chi-square statistic is less than the critical value , we do not reject the null hypothesis."
   ]
  }
 ],
 "metadata": {
  "kernelspec": {
   "display_name": "Python 3 (ipykernel)",
   "language": "python",
   "name": "python3"
  },
  "language_info": {
   "codemirror_mode": {
    "name": "ipython",
    "version": 3
   },
   "file_extension": ".py",
   "mimetype": "text/x-python",
   "name": "python",
   "nbconvert_exporter": "python",
   "pygments_lexer": "ipython3",
   "version": "3.11.7"
  }
 },
 "nbformat": 4,
 "nbformat_minor": 5
}
